{
 "cells": [
  {
   "cell_type": "code",
   "execution_count": 2,
   "metadata": {
    "ExecuteTime": {
     "end_time": "2023-07-31T16:06:36.943401900Z",
     "start_time": "2023-07-31T16:05:38.829331700Z"
    },
    "collapsed": true
   },
   "outputs": [],
   "source": [
    "import os\n",
    "import json\n",
    "import pandas as pd\n",
    "from datasets import Dataset\n",
    "from transformers import AutoTokenizer\n",
    "from transformers import AutoModelForTokenClassification, TrainingArguments, Trainer\n",
    "from transformers import DataCollatorForTokenClassification\n",
    "import torch\n",
    "import numpy as np\n",
    "from Scripts.assignLabel import assign_label\n",
    "import tensorboard"
   ]
  },
  {
   "cell_type": "code",
   "execution_count": null,
   "metadata": {
    "collapsed": false
   },
   "outputs": [],
   "source": [
    "\n",
    "from assignLabel import assign_label\n",
    "un_dir = 'unlabeled'\n",
    "for un_file in os.listdir(un_dir):\n",
    "    assign_label(os.path.join(un_dir, un_file))\n"
   ]
  },
  {
   "cell_type": "code",
   "execution_count": 4,
   "metadata": {
    "ExecuteTime": {
     "end_time": "2023-07-31T16:07:03.128108800Z",
     "start_time": "2023-07-31T16:07:02.919853700Z"
    },
    "collapsed": false
   },
   "outputs": [
    {
     "name": "stdout",
     "output_type": "stream",
     "text": [
      "data1.jsonl\n",
      "data2.jsonl\n",
      "data3.jsonl\n",
      "data4.jsonl\n",
      "data5.jsonl\n",
      "data6.jsonl\n",
      "data7.jsonl\n",
      "data8.jsonl\n",
      "data9.jsonl\n",
      "data10.jsonl\n",
      "data11.jsonl\n"
     ]
    }
   ],
   "source": [
    "# load data from jsonl files\n",
    "tokenizer = AutoTokenizer.from_pretrained(\"bert-base-uncased\")\n",
    "tokens = []\n",
    "labels = []\n",
    "data_dir = \"TrainTestData\"\n",
    "\n",
    "for an_file in sorted(os.listdir(data_dir), key= lambda x: int(x[4:].strip(\".jsonl\"))):\n",
    "    print(an_file)\n",
    "    jsonl_data = os.path.join(data_dir, an_file)\n",
    "    with open (jsonl_data, 'r', encoding=\"utf-8\") as file:\n",
    "        for line in file:\n",
    "            data = json.loads(line)\n",
    "            tokens.append(data['text'])\n",
    "            labels.append(data['label'])\n",
    "df = pd.DataFrame({'tokens': tokens, 'labels': labels})\n",
    "\n",
    "\n"
   ]
  },
  {
   "cell_type": "code",
   "execution_count": 5,
   "metadata": {
    "ExecuteTime": {
     "end_time": "2023-07-31T16:07:07.211287200Z",
     "start_time": "2023-07-31T16:07:07.008710900Z"
    },
    "collapsed": false
   },
   "outputs": [
    {
     "name": "stdout",
     "output_type": "stream",
     "text": [
      "<bound method NDFrame.head of                                      tokens  \\\n",
      "0     Amanda cockfighting chair -  32590.99   \n",
      "1                            Clark cupboard   \n",
      "2                    Molly vargueno -  2339   \n",
      "3                            Ted ogee clock   \n",
      "4                                Rosa bench   \n",
      "...                                     ...   \n",
      "3648                                      2   \n",
      "3649                                      3   \n",
      "3650                                      4   \n",
      "3651                                   Next   \n",
      "3652                                   Last   \n",
      "\n",
      "                                   labels  \n",
      "0     [[0, 25, PRODUCT], [25, 37, OTHER]]  \n",
      "1                      [[0, 14, PRODUCT]]  \n",
      "2     [[0, 14, PRODUCT], [14, 22, OTHER]]  \n",
      "3                      [[0, 14, PRODUCT]]  \n",
      "4                      [[0, 10, PRODUCT]]  \n",
      "...                                   ...  \n",
      "3648                      [[0, 1, OTHER]]  \n",
      "3649                      [[0, 1, OTHER]]  \n",
      "3650                      [[0, 1, OTHER]]  \n",
      "3651                      [[0, 4, OTHER]]  \n",
      "3652                      [[0, 4, OTHER]]  \n",
      "\n",
      "[3653 rows x 2 columns]>\n"
     ]
    }
   ],
   "source": [
    "# chose the model, tokenizer and labels\n",
    "model_checkpoint = \"bert-base-uncased\"\n",
    "tokenizer = AutoTokenizer.from_pretrained(model_checkpoint)\n",
    "\n",
    "entity_labels = {\n",
    "    \"OTHER\": 0,\n",
    "    \"PRODUCT\": 1\n",
    "}\n",
    "\n",
    "label_list = list(entity_labels.keys())\n",
    "# label_list\n",
    "print(df.head)"
   ]
  },
  {
   "cell_type": "code",
   "execution_count": 6,
   "metadata": {
    "collapsed": false
   },
   "outputs": [],
   "source": [
    "# tokenize inputs and assign labels\n",
    "labels = []\n",
    "tokenized_inputs = tokenizer(df[\"tokens\"].tolist(), truncation=True, padding=True, max_length=120)\n",
    "# for each input, assign the labels to the corresponding token based on the number of tokens that the input was split into\n",
    "for i, label in enumerate(df[\"tokens\"]):\n",
    "    input_ids = tokenized_inputs[\"input_ids\"][i]\n",
    "    current_labels = []\n",
    "    # to each id assign the corresponding label\n",
    "    for input_id in input_ids:\n",
    "        # -100 for the sentence start token\n",
    "        if input_id == 101:\n",
    "            current_labels.append(-100)\n",
    "        else:\n",
    "            # for each label in labels list for this input, assign the corresponding label to the tokens if they are part of the original input\n",
    "            for label_int in df[\"labels\"][i]:\n",
    "                # take the number of tokens that the input was split into for the current label\n",
    "                tokenized_input = tokenizer(df[\"tokens\"][i][label_int[0]:label_int[1]], truncation=True, max_length = 120)\n",
    "                # substract 2 for the sentence start and end tokens as they are treated separately\n",
    "                current_labels.extend([entity_labels[label_int[2]]]  * (len(tokenized_input[\"input_ids\"]) - 2))\n",
    "            break\n",
    "    # -100 for the sentence end token and padding tokens\n",
    "    for input_id in input_ids:\n",
    "        if input_id == 0 or input_id == 102:\n",
    "            current_labels.append(-100)\n",
    "    labels.append(current_labels[:120])\n",
    "\n",
    "df[\"labels\"] = labels\n"
   ]
  },
  {
   "cell_type": "code",
   "execution_count": 149,
   "metadata": {},
   "outputs": [
    {
     "data": {
      "image/png": "[encoded data removed]",
      "text/plain": [
       "<Figure size 640x480 with 1 Axes>"
      ]
     },
     "metadata": {},
     "output_type": "display_data"
    }
   ],
   "source": [
    "import matplotlib.pyplot as plt\n",
    "num_OTHER = sum(cell == 0 for row in df[\"labels\"] for cell in row)\n",
    "num_PRODUCT = sum(cell == 1 for row in df[\"labels\"] for cell in row)\n",
    "labels_num = [num_OTHER, num_PRODUCT]\n",
    "plt.bar([\"OTHER\", \"PRODUCT\"], labels_num)\n",
    "plt.title(\"Number of tokens with their labels\")\n",
    "plt.show()\n"
   ]
  },
  {
   "cell_type": "code",
   "execution_count": 7,
   "metadata": {},
   "outputs": [],
   "source": [
    "from sklearn.model_selection import train_test_split\n",
    "tokenized_inputs[\"labels\"] = labels\n",
    "# split the dataset in train and test\n",
    "train_dataset = Dataset.from_dict(tokenized_inputs)\n",
    "train_dataset, test_dataset = train_test_split(train_dataset, test_size=0.3, shuffle=True)\n",
    "train_dataset = Dataset.from_dict(train_dataset)\n",
    "# train_dataset = train_dataset.shuffle()\n",
    "\n",
    "test_dataset = Dataset.from_dict(test_dataset)"
   ]
  },
  {
   "cell_type": "code",
   "execution_count": 153,
   "metadata": {},
   "outputs": [
    {
     "data": {
      "image/png": "[encoded data removed]",
      "text/plain": [
       "<Figure size 640x480 with 1 Axes>"
      ]
     },
     "metadata": {},
     "output_type": "display_data"
    }
   ],
   "source": [
    "num_OTHER = sum(cell == 0 for row in train_dataset[\"labels\"] for cell in row)\n",
    "num_PRODUCT = sum(cell == 1 for row in train_dataset[\"labels\"] for cell in row)\n",
    "labels_num = [num_OTHER, num_PRODUCT]\n",
    "plt.bar([\"OTHER\", \"PRODUCT\"], labels_num)\n",
    "plt.title(\"Number of tokens with their labels\")\n",
    "plt.show()\n"
   ]
  },
  {
   "cell_type": "code",
   "execution_count": 154,
   "metadata": {},
   "outputs": [
    {
     "data": {
      "image/png": "[encoded data removed]",
      "text/plain": [
       "<Figure size 640x480 with 1 Axes>"
      ]
     },
     "metadata": {},
     "output_type": "display_data"
    }
   ],
   "source": [
    "num_OTHER = sum(cell == 0 for row in test_dataset[\"labels\"] for cell in row)\n",
    "num_PRODUCT = sum(cell == 1 for row in test_dataset[\"labels\"] for cell in row)\n",
    "labels_num = [num_OTHER, num_PRODUCT]\n",
    "plt.bar([\"OTHER\", \"PRODUCT\"], labels_num)\n",
    "plt.title(\"Number of tokens with their labels\")\n",
    "plt.show()"
   ]
  },
  {
   "cell_type": "code",
   "execution_count": 8,
   "metadata": {
    "collapsed": false
   },
   "outputs": [
    {
     "name": "stderr",
     "output_type": "stream",
     "text": [
      "Some weights of BertForTokenClassification were not initialized from the model checkpoint at bert-base-uncased and are newly initialized: ['classifier.weight', 'classifier.bias']\n",
      "You should probably TRAIN this model on a down-stream task to be able to use it for predictions and inference.\n",
      "C:\\Users\\gheto\\AppData\\Local\\Temp\\ipykernel_16928\\2217316236.py:18: FutureWarning: load_metric is deprecated and will be removed in the next major version of datasets. Use 'evaluate.load' instead, from the new library 🤗 Evaluate: https://huggingface.co/docs/evaluate\n",
      "  metric = load_metric(\"seqeval\")\n"
     ]
    }
   ],
   "source": [
    "from datasets import load_metric\n",
    "# load the model\n",
    "model = AutoModelForTokenClassification.from_pretrained(model_checkpoint, num_labels = len(entity_labels))\n",
    "# set the training arguments\n",
    "args = TrainingArguments(\n",
    "    \"test-ner\",\n",
    "    evaluation_strategy = \"epoch\",\n",
    "    learning_rate=2e-4,\n",
    "    per_device_train_batch_size=16,\n",
    "    per_device_eval_batch_size=16,\n",
    "    num_train_epochs=7,\n",
    "    weight_decay=0.01,\n",
    "    report_to=\"tensorboard\"\n",
    ")\n",
    "\n",
    "# used to batch the data\n",
    "data_collator = DataCollatorForTokenClassification(tokenizer)\n",
    "metric = load_metric(\"seqeval\")\n",
    "\n",
    "def compute_metrics(p):\n",
    "    predictions, labels = p\n",
    "    # highest probability label\n",
    "    predictions = np.argmax(predictions, axis=2)\n",
    "\n",
    "    # match the predictions to the labels and remove the unrelevant tokens\n",
    "    true_predictions = [\n",
    "        [label_list[p] for (p, l) in zip(prediction, label) if l != -100]\n",
    "        for prediction, label in zip(predictions, labels)\n",
    "    ]\n",
    "    true_labels = [\n",
    "        [label_list[l] for (p, l) in zip(prediction, label) if l != -100]\n",
    "        for prediction, label in zip(predictions, labels)\n",
    "    ]\n",
    "    results = metric.compute(predictions=true_predictions, references=true_labels)\n",
    "    return {\n",
    "        \"precision\": results[\"overall_precision\"],\n",
    "        \"recall\": results[\"overall_recall\"],\n",
    "        \"f1\": results[\"overall_f1\"],\n",
    "        \"accuracy\": results[\"overall_accuracy\"],\n",
    "    }"
   ]
  },
  {
   "cell_type": "code",
   "execution_count": 9,
   "metadata": {
    "collapsed": false
   },
   "outputs": [],
   "source": [
    "trainer = Trainer(\n",
    "    model,\n",
    "    args,\n",
    "    train_dataset= train_dataset,\n",
    "    eval_dataset= test_dataset,\n",
    "    data_collator=data_collator,\n",
    "    tokenizer=tokenizer,\n",
    "    compute_metrics=compute_metrics\n",
    ")"
   ]
  },
  {
   "cell_type": "code",
   "execution_count": null,
   "metadata": {
    "collapsed": false
   },
   "outputs": [],
   "source": [
    "trainer.train()\n",
    "trainer.evaluate()\n",
    "trainer.save_model(\"best-model\")"
   ]
  },
  {
   "cell_type": "code",
   "execution_count": 116,
   "metadata": {
    "ExecuteTime": {
     "end_time": "2023-07-31T16:07:14.429324300Z",
     "start_time": "2023-07-31T16:07:13.515291800Z"
    },
    "collapsed": false
   },
   "outputs": [
    {
     "name": "stdout",
     "output_type": "stream",
     "text": [
      "[('[CLS]', 'OTHER'), ('buy', 'OTHER'), ('this', 'OTHER'), ('new', 'OTHER'), ('ja', 'PRODUCT'), ('##kara', 'PRODUCT'), ('##nda', 'PRODUCT'), ('sofa', 'PRODUCT'), ('green', 'OTHER'), ('from', 'OTHER'), ('our', 'OTHER'), ('store', 'OTHER'), ('[SEP]', 'OTHER')]\n"
     ]
    }
   ],
   "source": [
    "# predict on a new text\n",
    "model = AutoModelForTokenClassification.from_pretrained(\"test-ner\\checkpoint-500\")\n",
    "tokenizer = AutoTokenizer.from_pretrained(\"test-ner\\checkpoint-500\")\n",
    "sequence = \"Buy this new Jakaranda Sofa Green from our store\"\n",
    "tokens = tokenizer.tokenize(tokenizer.decode(tokenizer.encode(sequence)))\n",
    "inputs = tokenizer.encode(sequence, return_tensors=\"pt\")\n",
    "outputs = model(inputs)[0]\n",
    "predictions = torch.argmax(outputs, dim=2)\n",
    "print([(token, label_list[prediction]) for token, prediction in zip(tokens, predictions[0].tolist())])\n"
   ]
  },
  {
   "cell_type": "code",
   "execution_count": null,
   "metadata": {
    "ExecuteTime": {
     "end_time": "2023-07-31T16:30:47.269694400Z",
     "start_time": "2023-07-31T16:28:03.667037700Z"
    }
   },
   "outputs": [],
   "source": [
    "pred_data_dir = \"DataToPredict\"\n",
    "products = dict()\n",
    "nr = 0\n",
    "for file in sorted(os.listdir(pred_data_dir), key=lambda x : int(x.rsplit('.', 1)[0].rsplit('_',1)[1])):\n",
    "    print(\"-----------------------------------\")\n",
    "    print(file)\n",
    "    nr += 1\n",
    "    # if nr == 5:\n",
    "    #     break\n",
    "    pred_fpath = os.path.join(pred_data_dir, file)\n",
    "    with open(pred_fpath, 'r', encoding='utf-8') as pred_file:\n",
    "        for line in pred_file:\n",
    "            line = line[:120]\n",
    "            tokens = tokenizer.tokenize(tokenizer.decode(tokenizer.encode(line), max_length=512))\n",
    "            inputs = tokenizer.encode(line, return_tensors=\"pt\", max_length=512)\n",
    "            outputs = model(inputs)[0]\n",
    "            predictions = torch.argmax(outputs, dim=2)\n",
    "            token_pred = [(token, label_list[prediction]) for token, prediction in zip(tokens, predictions[0].tolist())]\n",
    "            product = \"\"\n",
    "            # print(token_pred)\n",
    "            for token, pred_label in token_pred:\n",
    "                if pred_label == 'PRODUCT':\n",
    "                    if token not in [\"[CLS]\", \"\", \"[SEP]\"]:\n",
    "                        if token[0] == '#' and token[1] == '#':\n",
    "                            product += token[2:]\n",
    "                        else:\n",
    "                            product += \" \" + token\n",
    "            if product:\n",
    "                print(product)\n",
    "                products[product] = product\n",
    "\n",
    "json_products = json.dumps(products)\n",
    "with open(\"occurences.json\", 'w') as file_occ:\n",
    "    file_occ.write(json_products)\n",
    "products_df = pd.DataFrame.from_dict(products, orient='index')\n",
    "products_df.to_csv('extractedData.csv', index = [0])\n",
    "\n"
   ]
  },
  {
   "cell_type": "code",
   "execution_count": null,
   "metadata": {},
   "outputs": [],
   "source": [
    "from collections import Counter\n",
    "def number_of_occurrences(predicted_products):\n",
    "    most_common = ['bed', \"sofa\", \"table\", \"chair\", \"bed\", \"wardrobe\", \"desk\", \"lamp\", \"shelf\", \"couch\", \"chest\", \"mirror\", \"carpet\"]\n",
    "    all_words = ' '.join(predicted_products).split()\n",
    "    nr_occurrences = Counter(all_words)\n",
    "    most_common_occ = {}\n",
    "    for obj in most_common:\n",
    "        most_common_occ[obj] = nr_occurrences.get(obj, 0)\n",
    "\n",
    "    print(most_common_occ)\n",
    "    return most_common_occ"
   ]
  }
 ],
 "metadata": {
  "kernelspec": {
   "display_name": "Python 3",
   "language": "python",
   "name": "python3"
  },
  "language_info": {
   "codemirror_mode": {
    "name": "ipython",
    "version": 3
   },
   "file_extension": ".py",
   "mimetype": "text/x-python",
   "name": "python",
   "nbconvert_exporter": "python",
   "pygments_lexer": "ipython3",
   "version": "3.11.4"
  }
 },
 "nbformat": 4,
 "nbformat_minor": 0
}
